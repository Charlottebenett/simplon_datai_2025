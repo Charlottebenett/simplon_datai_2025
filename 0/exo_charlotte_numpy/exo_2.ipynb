{
 "cells": [
  {
   "cell_type": "markdown",
   "metadata": {},
   "source": [
    "## Générateur de nombre aléatoire"
   ]
  },
  {
   "cell_type": "code",
   "execution_count": 52,
   "metadata": {},
   "outputs": [
    {
     "name": "stdout",
     "output_type": "stream",
     "text": [
      "[19 38 12 24  3]\n",
      "[190 380 120 240  30]\n",
      "[5]\n"
     ]
    }
   ],
   "source": [
    "import numpy as np\n",
    "\n",
    "# créer une liste de numéro random entre 1 et 49 (loto)\n",
    "l2 =  np.random.choice((np.arange(1,49)), 5, replace=False)\n",
    "print(l2)\n",
    "NG= np.random.choice((np.arange(1,10)), 1, replace=False)\n",
    "print(NG)\n",
    "\n"
   ]
  },
  {
   "cell_type": "code",
   "execution_count": 48,
   "metadata": {},
   "outputs": [
    {
     "name": "stdout",
     "output_type": "stream",
     "text": [
      "[38 13  9 16 41 30  6]\n",
      "[2 6]\n"
     ]
    }
   ],
   "source": [
    "import numpy as np\n",
    "\n",
    "l2 = np.random.choice((np.arange(1,50)), 7, replace=False)\n",
    "print(l2)\n",
    "\n",
    "NG= np.random.choice((np.arange(1,10)), 2, replace=False)\n",
    "print(NG)\n"
   ]
  },
  {
   "cell_type": "code",
   "execution_count": 53,
   "metadata": {},
   "outputs": [],
   "source": [
    "import numpy as np\n",
    "import matplotlib.pyplot as plt\n",
    "\n",
    "num_simulations = 1000\n",
    "num_draws = 5\n",
    "min_value = 1\n",
    "max_value = 49\n",
    "\n",
    "# Génère les 1000 séries de tirages d'array de 5 nb entre 1 et 49\n",
    "all_draws = np.random.randint(min_value, max_value + 1, size=(num_simulations, num_draws))"
   ]
  },
  {
   "cell_type": "code",
   "execution_count": 55,
   "metadata": {},
   "outputs": [
    {
     "name": "stdout",
     "output_type": "stream",
     "text": [
      "109\n",
      "0.109\n"
     ]
    }
   ],
   "source": [
    "#choisir le nombre souhaité entre 1 et 49\n",
    "target_number = 25\n",
    "occurrences = np.sum(all_draws == target_number)\n",
    "print(occurrences)\n",
    "\n",
    "\n",
    "probability = occurrences / num_simulations\n",
    "print(probability)\n"
   ]
  },
  {
   "cell_type": "code",
   "execution_count": 3,
   "metadata": {},
   "outputs": [],
   "source": [
    "import numpy as np\n",
    "import matplotlib.pyplot as plt\n",
    "\n",
    "# Génère les 1000 séries de tirages\n",
    "num_simulations = 7\n",
    "num_draws = 5\n",
    "min_value = 1\n",
    "max_value = 49\n",
    "all_draws = np.random.randint(min_value, max_value + 1, size=(num_simulations, num_draws))\n",
    "\n",
    "# Calcule les probabilités pour chaque nombre de 1 à 50\n",
    "probabilities = []\n",
    "for target_number in range(1, 49):\n",
    "    occurrences = np.sum(all_draws == target_number)\n",
    "    probability = occurrences / num_simulations\n",
    "    probabilities.append(probability)\n",
    "    \n",
    "\n",
    "\n",
    "\n"
   ]
  },
  {
   "cell_type": "code",
   "execution_count": 5,
   "metadata": {},
   "outputs": [
    {
     "name": "stdout",
     "output_type": "stream",
     "text": [
      "    Number  Occurrences  Probabilities\n",
      "0        1         1047         0.1047\n",
      "1        2         1035         0.1035\n",
      "2        3          973         0.0973\n",
      "3        4         1073         0.1073\n",
      "4        5         1004         0.1004\n",
      "5        6          992         0.0992\n",
      "6        7          972         0.0972\n",
      "7        8         1046         0.1046\n",
      "8        9         1002         0.1002\n",
      "9       10         1087         0.1087\n",
      "10      11         1054         0.1054\n",
      "11      12         1056         0.1056\n",
      "12      13         1021         0.1021\n",
      "13      14         1035         0.1035\n",
      "14      15         1025         0.1025\n",
      "15      16         1051         0.1051\n",
      "16      17         1016         0.1016\n",
      "17      18         1000         0.1000\n",
      "18      19         1017         0.1017\n",
      "19      20         1002         0.1002\n",
      "20      21         1013         0.1013\n",
      "21      22         1000         0.1000\n",
      "22      23         1040         0.1040\n",
      "23      24         1027         0.1027\n",
      "24      25         1029         0.1029\n",
      "25      26         1000         0.1000\n",
      "26      27         1025         0.1025\n",
      "27      28         1027         0.1027\n",
      "28      29         1014         0.1014\n",
      "29      30          975         0.0975\n",
      "30      31         1005         0.1005\n",
      "31      32         1041         0.1041\n",
      "32      33         1093         0.1093\n",
      "33      34         1017         0.1017\n",
      "34      35         1029         0.1029\n",
      "35      36         1025         0.1025\n",
      "36      37          987         0.0987\n",
      "37      38         1074         0.1074\n",
      "38      39          955         0.0955\n",
      "39      40          976         0.0976\n",
      "40      41          980         0.0980\n",
      "41      42          978         0.0978\n",
      "42      43         1006         0.1006\n",
      "43      44         1045         0.1045\n",
      "44      45         1040         0.1040\n",
      "45      46         1042         0.1042\n",
      "46      47         1013         0.1013\n",
      "47      48         1037         0.1037\n",
      "48      49          999         0.0999\n"
     ]
    }
   ],
   "source": [
    "import numpy as np\n",
    "\n",
    "# Paramètres\n",
    "min_value = 1\n",
    "max_value = 49\n",
    "num_simulations = 10000\n",
    "num_draws = 5\n",
    "\n",
    "# Génère les 1000 séries de tirages\n",
    "all_draws = np.random.randint(min_value, max_value + 1, size=(num_simulations, num_draws))\n",
    "\n",
    "# Initialisation des tableaux\n",
    "numbers = list(range(min_value, max_value + 1))\n",
    "occurrences = []\n",
    "probabilities = []\n",
    "\n",
    "# Calcul des occurrences et des probabilités\n",
    "for target_number in numbers:\n",
    "    occurrences_count = np.sum(all_draws == target_number)\n",
    "    probability = occurrences_count / num_simulations\n",
    "    \n",
    "    occurrences.append(occurrences_count)\n",
    "    probabilities.append(probability)\n",
    "\n",
    "# Crée un tableau avec les valeurs\n",
    "data_table = {\n",
    "    'Number': numbers,\n",
    "    'Occurrences': occurrences,\n",
    "    'Probabilities': probabilities\n",
    "}\n",
    "\n",
    "# Affiche le tableau\n",
    "import pandas as pd\n",
    "df = pd.DataFrame(data_table)\n",
    "print(df)"
   ]
  }
 ],
 "metadata": {
  "kernelspec": {
   "display_name": "base",
   "language": "python",
   "name": "python3"
  },
  "language_info": {
   "codemirror_mode": {
    "name": "ipython",
    "version": 3
   },
   "file_extension": ".py",
   "mimetype": "text/x-python",
   "name": "python",
   "nbconvert_exporter": "python",
   "pygments_lexer": "ipython3",
   "version": "3.11.4"
  },
  "orig_nbformat": 4
 },
 "nbformat": 4,
 "nbformat_minor": 2
}
